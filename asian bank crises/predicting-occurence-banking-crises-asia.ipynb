{
 "cells": [
  {
   "cell_type": "markdown",
   "metadata": {},
   "source": [
    "# Predicting banking crises in Asia: 1800 - 2016\n",
    "- In this notebook, we attempt to model banking crises in a select group of Asian countries.\n",
    "- We seek top identify macroeconomic and geopolitical events which occured immediately before, after or at the same time as banking crises in these countries, in the period 1800 - 2016.\n",
    "- The hypothesis is that the occurence of these events in the present day may also correlate with banking crises in Asian countries.\n",
    "\n",
    "### Dataset:\n",
    "- I've used the dataset manintained by Carmen reinhart et al.,  available here: https://www.hbs.edu/behavioral-finance-and-financial-stability/data/Pages/global.aspx\n",
    "- 13 asian countries chosen for the study: India, Sri Lanka, China, Taiwan, Korea, Indonesia, Japan, Malaysia, Myanmar, Philippines, Russia, Singapore, Thailand.\n",
    "\n",
    "#### Objective:\n",
    "- To predict whether a banking crisis (i.e. a host of banks in a state of illiquidity or insolvency ) might occur in a set of Asian countries, given set of other extenuating macroeconomic circumstances\n",
    "\n",
    "#### Input variables:\n",
    "##### Following input variables are boolean variables (i.e. 0 = No, 1 = Yes)\n",
    " - Systemic Crisis\n",
    " - Default on Domestic Debt\n",
    " - Default on Sovereign External Debt\n",
    " - Independence\n",
    " - Currency crises (insufficient currency avaiable with the reserve abnk to stabilize the exchange rate)\n",
    " - Inflation crises (period characterized by CPI inflation >= 20 %)\n",
    " - Gold Standard (whether the country followed the gold standard)\n",
    "\n",
    "##### Methodology:\n",
    "- Machine learning methods - specifically:\n",
    "  1. Logistic Regression\n",
    "   - Model Implementation using logistic regression classifier \n",
    "   - Model validation using confusion matrix and ROC curve\n",
    "  \n",
    "##### Assumptions:\n",
    "- Banking crises can be predicted basis correlations with the specific set of macroeconomic events, reduced to Boolean inpu variables\n",
    "- Where values were not avaialble in the dataset, the value is taken to be '0'"
   ]
  },
  {
   "cell_type": "code",
   "execution_count": 3,
   "metadata": {},
   "outputs": [],
   "source": [
    "# import the relevant libraries\n",
    "import pandas as pd\n",
    "import numpy as np\n",
    "import matplotlib.pyplot as plt\n",
    "from matplotlib import style\n",
    "from sklearn.linear_model import LogisticRegression\n",
    "from sklearn.model_selection import train_test_split\n",
    "import seaborn as sns\n",
    "\n",
    "%matplotlib inline"
   ]
  },
  {
   "cell_type": "code",
   "execution_count": 2,
   "metadata": {},
   "outputs": [],
   "source": [
    "#Importing dataset\n",
    "df1 = pd.read_excel('20160923_global_crisis_data.xlsx', sheet_name = 'asia')"
   ]
  },
  {
   "cell_type": "code",
   "execution_count": 3,
   "metadata": {},
   "outputs": [
    {
     "data": {
      "text/plain": [
       "(2821, 12)"
      ]
     },
     "execution_count": 3,
     "metadata": {},
     "output_type": "execute_result"
    }
   ],
   "source": [
    "df1.shape"
   ]
  },
  {
   "cell_type": "code",
   "execution_count": 4,
   "metadata": {},
   "outputs": [
    {
     "data": {
      "text/plain": [
       "Index(['Case', 'CC3', 'Country', 'Year', 'Banking Crisis ', 'Systemic Crisis',\n",
       "       'Gold Standard', 'Domestic_Debt_In_Default',\n",
       "       'Sovereign_Debt_In_Default', 'Independence', 'Currency Crises',\n",
       "       'Inflation Crises'],\n",
       "      dtype='object')"
      ]
     },
     "execution_count": 4,
     "metadata": {},
     "output_type": "execute_result"
    }
   ],
   "source": [
    "df1.columns"
   ]
  },
  {
   "cell_type": "code",
   "execution_count": 5,
   "metadata": {},
   "outputs": [],
   "source": [
    "df1.rename(columns = {'Country':'country', 'Year':'year', 'Banking Crisis ': 'banking_crisis', 'Systemic Crisis':'systemic_crisis', 'Gold Standard':'gold_standard','Currency Crises':'currency_crises','Inflation Crises':'inflation_crises'}, inplace = True)"
   ]
  },
  {
   "cell_type": "code",
   "execution_count": 6,
   "metadata": {},
   "outputs": [
    {
     "data": {
      "text/plain": [
       "Index(['Case', 'CC3', 'country', 'year', 'banking_crisis', 'systemic_crisis',\n",
       "       'gold_standard', 'Domestic_Debt_In_Default',\n",
       "       'Sovereign_Debt_In_Default', 'Independence', 'currency_crises',\n",
       "       'inflation_crises'],\n",
       "      dtype='object')"
      ]
     },
     "execution_count": 6,
     "metadata": {},
     "output_type": "execute_result"
    }
   ],
   "source": [
    "df1.columns"
   ]
  },
  {
   "cell_type": "code",
   "execution_count": 7,
   "metadata": {},
   "outputs": [
    {
     "name": "stdout",
     "output_type": "stream",
     "text": [
      "<class 'pandas.core.frame.DataFrame'>\n",
      "RangeIndex: 2821 entries, 0 to 2820\n",
      "Data columns (total 12 columns):\n",
      " #   Column                     Non-Null Count  Dtype \n",
      "---  ------                     --------------  ----- \n",
      " 0   Case                       2821 non-null   int64 \n",
      " 1   CC3                        2821 non-null   object\n",
      " 2   country                    2821 non-null   object\n",
      " 3   year                       2821 non-null   int64 \n",
      " 4   banking_crisis             2821 non-null   int64 \n",
      " 5   systemic_crisis            2821 non-null   int64 \n",
      " 6   gold_standard              2821 non-null   int64 \n",
      " 7   Domestic_Debt_In_Default   2821 non-null   int64 \n",
      " 8   Sovereign_Debt_In_Default  2821 non-null   int64 \n",
      " 9   Independence               2821 non-null   int64 \n",
      " 10  currency_crises            2821 non-null   int64 \n",
      " 11  inflation_crises           2821 non-null   int64 \n",
      "dtypes: int64(10), object(2)\n",
      "memory usage: 264.6+ KB\n"
     ]
    }
   ],
   "source": [
    "# selecting specific columns for the model\n",
    "df1.info()"
   ]
  },
  {
   "cell_type": "markdown",
   "metadata": {},
   "source": [
    "## 1. Logistic Regression"
   ]
  },
  {
   "cell_type": "code",
   "execution_count": 8,
   "metadata": {},
   "outputs": [],
   "source": [
    "# divide the data into attributes (dependent variables) and labels (indepenedent variable)\n",
    "X = df1[['systemic_crisis',\n",
    "       'gold_standard', 'Domestic_Debt_In_Default',\n",
    "       'Sovereign_Debt_In_Default', 'Independence', 'currency_crises',\n",
    "       'inflation_crises']]\n",
    "Y = df1['banking_crisis']"
   ]
  },
  {
   "cell_type": "code",
   "execution_count": 9,
   "metadata": {},
   "outputs": [
    {
     "name": "stdout",
     "output_type": "stream",
     "text": [
      "(2821, 7) (2821,)\n"
     ]
    }
   ],
   "source": [
    "len(Y)\n",
    "print(X.shape, Y.shape)"
   ]
  },
  {
   "cell_type": "code",
   "execution_count": 10,
   "metadata": {},
   "outputs": [
    {
     "data": {
      "text/plain": [
       "140"
      ]
     },
     "execution_count": 10,
     "metadata": {},
     "output_type": "execute_result"
    }
   ],
   "source": [
    "np.count_nonzero(Y)"
   ]
  },
  {
   "cell_type": "code",
   "execution_count": 11,
   "metadata": {},
   "outputs": [
    {
     "name": "stdout",
     "output_type": "stream",
     "text": [
      "2681\n",
      "percentage of no crisis is:  95.03722084367246\n",
      "percentage of crisis is:  4.962779156327544\n"
     ]
    }
   ],
   "source": [
    "count_no_crisis = len(Y) - np.count_nonzero(Y)\n",
    "print(count_no_crisis)\n",
    "\n",
    "count_crisis = np.count_nonzero(Y)\n",
    "pct_of_no_crisis = count_no_crisis/(count_no_crisis+count_crisis)\n",
    "print(\"percentage of no crisis is: \", pct_of_no_crisis*100)\n",
    "pct_of_crisis = count_crisis/(count_no_crisis+count_crisis)\n",
    "print(\"percentage of crisis is: \", pct_of_crisis*100)"
   ]
  },
  {
   "cell_type": "markdown",
   "metadata": {},
   "source": [
    "Given that our classes are imbalanced, we'll use SMOTE to balance out our classes - specifically, oversampling technique"
   ]
  },
  {
   "cell_type": "code",
   "execution_count": 12,
   "metadata": {},
   "outputs": [],
   "source": [
    "# Over-sampling using SMOTE\n",
    "crisis = df1[df1['banking_crisis'] == 1]\n",
    "no_crisis = df1[df1['banking_crisis']== 0]"
   ]
  },
  {
   "cell_type": "code",
   "execution_count": 13,
   "metadata": {},
   "outputs": [
    {
     "name": "stdout",
     "output_type": "stream",
     "text": [
      "(140, 12) (2681, 12)\n"
     ]
    }
   ],
   "source": [
    "print(crisis.shape, no_crisis.shape)"
   ]
  },
  {
   "cell_type": "code",
   "execution_count": 14,
   "metadata": {},
   "outputs": [],
   "source": [
    "from imblearn.combine import SMOTETomek\n",
    "from imblearn.under_sampling import NearMiss"
   ]
  },
  {
   "cell_type": "code",
   "execution_count": 15,
   "metadata": {},
   "outputs": [],
   "source": [
    "os = SMOTETomek(random_state = 42)"
   ]
  },
  {
   "cell_type": "code",
   "execution_count": 16,
   "metadata": {},
   "outputs": [
    {
     "name": "stdout",
     "output_type": "stream",
     "text": [
      "length of oversampled data is  3756\n",
      "Number of crisis in oversampled data:  1878\n",
      "Number of no crisis:  1878\n",
      "Proportion of no crisis data in oversampled data is  0.5\n",
      "Proportion of crisis data in oversampled data is  0.5\n"
     ]
    }
   ],
   "source": [
    "X_train, X_test, Y_train, Y_test = train_test_split(X, Y, test_size=0.3, random_state=0)\n",
    "columns = X_train.columns\n",
    "os_data_X,os_data_Y = os.fit_sample(X_train, Y_train)\n",
    "# we can Check the numbers of our data\n",
    "print(\"length of oversampled data is \",len(os_data_X))\n",
    "\n",
    "count_crisis = np.count_nonzero(os_data_Y)\n",
    "print(\"Number of crisis in oversampled data: \", count_crisis)\n",
    "\n",
    "count_no_crisis = len(os_data_Y) - np.count_nonzero(os_data_Y)\n",
    "print(\"Number of no crisis: \", count_no_crisis)\n",
    "print(\"Proportion of no crisis data in oversampled data is \", count_no_crisis/len(os_data_X))\n",
    "print(\"Proportion of crisis data in oversampled data is \",count_crisis/len(os_data_X))"
   ]
  },
  {
   "cell_type": "markdown",
   "metadata": {},
   "source": [
    "Note that we've only used training dataset for oversampling - this will preserve the sanctity of the testing dataset"
   ]
  },
  {
   "cell_type": "markdown",
   "metadata": {},
   "source": [
    "### Implementing the logistic regression classifier model"
   ]
  },
  {
   "cell_type": "code",
   "execution_count": 17,
   "metadata": {},
   "outputs": [],
   "source": [
    "# compare counts before an after SMOTE oversampling\n",
    "#from collections import Counter\n",
    "#print(\"original dataset shape {}\".format(Counter(Y)))\n",
    "#print(\"new dataset shape {}\".format(Counter(Y_res)))"
   ]
  },
  {
   "cell_type": "code",
   "execution_count": 18,
   "metadata": {},
   "outputs": [],
   "source": [
    "X1 = os_data_X\n",
    "Y1 = os_data_Y"
   ]
  },
  {
   "cell_type": "code",
   "execution_count": 19,
   "metadata": {},
   "outputs": [],
   "source": [
    "import statsmodels.api as sm"
   ]
  },
  {
   "cell_type": "code",
   "execution_count": 20,
   "metadata": {},
   "outputs": [
    {
     "name": "stdout",
     "output_type": "stream",
     "text": [
      "Warning: Maximum number of iterations has been exceeded.\n",
      "         Current function value: 0.486263\n",
      "         Iterations: 35\n"
     ]
    },
    {
     "name": "stderr",
     "output_type": "stream",
     "text": [
      "C:\\ProgramData\\Anaconda3\\lib\\site-packages\\statsmodels\\base\\model.py:568: ConvergenceWarning: Maximum Likelihood optimization failed to converge. Check mle_retvals\n",
      "  \"Check mle_retvals\", ConvergenceWarning)\n"
     ]
    },
    {
     "name": "stdout",
     "output_type": "stream",
     "text": [
      "                               Results: Logit\n",
      "=============================================================================\n",
      "Model:                   Logit                Pseudo R-squared:     0.298    \n",
      "Dependent Variable:      banking_crisis       AIC:                  3666.8093\n",
      "Date:                    2020-10-27 22:41     BIC:                  3710.4270\n",
      "No. Observations:        3756                 Log-Likelihood:       -1826.4  \n",
      "Df Model:                6                    LL-Null:              -2603.5  \n",
      "Df Residuals:            3749                 LLR p-value:          0.0000   \n",
      "Converged:               0.0000               Scale:                1.0000   \n",
      "No. Iterations:          35.0000                                             \n",
      "-----------------------------------------------------------------------------\n",
      "                           Coef.   Std.Err.    z    P>|z|    [0.025   0.975] \n",
      "-----------------------------------------------------------------------------\n",
      "systemic_crisis             7.1684   0.6033 11.8813 0.0000    5.9859   8.3509\n",
      "gold_standard              -1.0164   0.1725 -5.8923 0.0000   -1.3545  -0.6783\n",
      "Domestic_Debt_In_Default  -12.9233 129.5033 -0.0998 0.9205 -266.7452 240.8986\n",
      "Sovereign_Debt_In_Default  -0.9756   0.3662 -2.6639 0.0077   -1.6933  -0.2578\n",
      "Independence                0.0501   0.0527  0.9503 0.3420   -0.0532   0.1534\n",
      "currency_crises            -2.7370   0.4328 -6.3245 0.0000   -3.5853  -1.8888\n",
      "inflation_crises           -1.4555   0.2345 -6.2071 0.0000   -1.9150  -0.9959\n",
      "=============================================================================\n",
      "\n"
     ]
    }
   ],
   "source": [
    "log_reg_model = sm.Logit(Y1,X1)\n",
    "result = log_reg_model.fit()\n",
    "print(result.summary2())"
   ]
  },
  {
   "cell_type": "code",
   "execution_count": 21,
   "metadata": {},
   "outputs": [
    {
     "name": "stdout",
     "output_type": "stream",
     "text": [
      "Optimization terminated successfully.\n",
      "         Current function value: 0.489304\n",
      "         Iterations 9\n",
      "                             Results: Logit\n",
      "=========================================================================\n",
      "Model:                 Logit               Pseudo R-squared:    0.294    \n",
      "Dependent Variable:    banking_crisis      AIC:                 3685.6484\n",
      "Date:                  2020-10-27 22:41    BIC:                 3716.8039\n",
      "No. Observations:      3756                Log-Likelihood:      -1837.8  \n",
      "Df Model:              4                   LL-Null:             -2603.5  \n",
      "Df Residuals:          3751                LLR p-value:         0.0000   \n",
      "Converged:             1.0000              Scale:               1.0000   \n",
      "No. Iterations:        9.0000                                            \n",
      "-------------------------------------------------------------------------\n",
      "                           Coef.  Std.Err.    z    P>|z|   [0.025  0.975]\n",
      "-------------------------------------------------------------------------\n",
      "systemic_crisis            7.4517   0.5672 13.1383 0.0000  6.3401  8.5633\n",
      "gold_standard             -1.0063   0.1722 -5.8445 0.0000 -1.3438 -0.6689\n",
      "Sovereign_Debt_In_Default -1.8653   0.3260 -5.7218 0.0000 -2.5043 -1.2264\n",
      "currency_crises           -2.8785   0.4400 -6.5417 0.0000 -3.7409 -2.0161\n",
      "inflation_crises          -1.4148   0.2326 -6.0836 0.0000 -1.8706 -0.9590\n",
      "=========================================================================\n",
      "\n"
     ]
    }
   ],
   "source": [
    "# remove the variables where p values > 0.05, and re-run the regresion\n",
    "X1 = os_data_X[['systemic_crisis', 'gold_standard', 'Sovereign_Debt_In_Default', 'currency_crises', 'inflation_crises']]\n",
    "Y1 = os_data_Y\n",
    "log_reg_model = sm.Logit(Y1,X1)\n",
    "result = log_reg_model.fit()\n",
    "print(result.summary2())"
   ]
  },
  {
   "cell_type": "markdown",
   "metadata": {},
   "source": [
    "now that p-values for all variables are below 5%, we can run the logistic regression model using sci-kit learn"
   ]
  },
  {
   "cell_type": "markdown",
   "metadata": {},
   "source": [
    "### Model Validation"
   ]
  },
  {
   "cell_type": "code",
   "execution_count": 22,
   "metadata": {},
   "outputs": [
    {
     "data": {
      "text/plain": [
       "LogisticRegression()"
      ]
     },
     "execution_count": 22,
     "metadata": {},
     "output_type": "execute_result"
    }
   ],
   "source": [
    "from sklearn.linear_model import LogisticRegression\n",
    "from sklearn import metrics\n",
    "X_train, X_test, Y_train, Y_test = train_test_split(X1, Y1, test_size=0.3, random_state=42)\n",
    "logreg = LogisticRegression()\n",
    "logreg.fit(X_train, Y_train)"
   ]
  },
  {
   "cell_type": "code",
   "execution_count": 23,
   "metadata": {},
   "outputs": [
    {
     "name": "stdout",
     "output_type": "stream",
     "text": [
      "Accuracy of logistic regression classifier on test set: 0.75\n"
     ]
    }
   ],
   "source": [
    "Y_pred = logreg.predict(X_test)\n",
    "print('Accuracy of logistic regression classifier on test set: {:.2f}'.format(logreg.score(X_test, Y_test)))"
   ]
  },
  {
   "cell_type": "markdown",
   "metadata": {},
   "source": [
    "### Confusion Matrix"
   ]
  },
  {
   "cell_type": "code",
   "execution_count": 24,
   "metadata": {},
   "outputs": [
    {
     "name": "stdout",
     "output_type": "stream",
     "text": [
      "[[577   3]\n",
      " [277 270]]\n"
     ]
    }
   ],
   "source": [
    "from sklearn.metrics import confusion_matrix\n",
    "confusion_matrix = confusion_matrix(Y_test, Y_pred)\n",
    "print(confusion_matrix)"
   ]
  },
  {
   "cell_type": "markdown",
   "metadata": {},
   "source": [
    "Thus, we see that we have 577 + 270 = 847 correct predictions and 277 + 3 = 280 incorrect predictions as per the logistic regression classifier model.\n",
    "The false positive rate and true positive rate can be visualized using the ROC curve."
   ]
  },
  {
   "cell_type": "markdown",
   "metadata": {},
   "source": [
    "### ROC Curve"
   ]
  },
  {
   "cell_type": "code",
   "execution_count": 25,
   "metadata": {},
   "outputs": [
    {
     "data": {
      "image/png": "[encoded data removed]",
      "text/plain": [
       "<Figure size 432x288 with 1 Axes>"
      ]
     },
     "metadata": {
      "needs_background": "light"
     },
     "output_type": "display_data"
    }
   ],
   "source": [
    "from sklearn.metrics import roc_auc_score\n",
    "from sklearn.metrics import roc_curve\n",
    "logit_roc_auc = roc_auc_score(Y_test, logreg.predict(X_test))\n",
    "fpr, tpr, thresholds = roc_curve(Y_test, logreg.predict_proba(X_test)[:,1])\n",
    "plt.figure()\n",
    "plt.plot(fpr, tpr, label='Logistic Regression (area = %0.2f)' % logit_roc_auc)\n",
    "plt.plot([0, 1], [0, 1],'r--')\n",
    "plt.xlim([0.0, 1.0])\n",
    "plt.ylim([0.0, 1.05])\n",
    "plt.xlabel('False Positive Rate')\n",
    "plt.ylabel('True Positive Rate')\n",
    "plt.title('Receiver operating characteristic')\n",
    "plt.legend(loc=\"lower right\")\n",
    "plt.savefig('Log_ROC')\n",
    "plt.show()"
   ]
  },
  {
   "cell_type": "markdown",
   "metadata": {},
   "source": [
    "### Conclusion :\n",
    "The model indicates that banking crises in Asia may be  correlated with following factors : \n",
    "- Systemic crisis\n",
    "- Gold Standard\n",
    "- Sovereign Debt in Default\n",
    "- Currency Crisis\n",
    "- Inflation Crisis\n",
    "\n",
    "The model can be further improved by adding further variables."
   ]
  },
  {
   "cell_type": "markdown",
   "metadata": {},
   "source": [
    "# 2. Neural network model"
   ]
  },
  {
   "cell_type": "code",
   "execution_count": 1,
   "metadata": {},
   "outputs": [],
   "source": [
    "## import the relevant libraries\n",
    "from sklearn import preprocessing\n",
    "from sklearn.model_selection import train_test_split\n",
    "from sklearn.metrics import confusion_matrix\n",
    "from keras.models import Sequential\n",
    "from keras.layers import Dense"
   ]
  },
  {
   "cell_type": "code",
   "execution_count": 4,
   "metadata": {},
   "outputs": [],
   "source": [
    "#Importing dataset\n",
    "df2 = pd.read_excel('20160923_global_crisis_data.xlsx', sheet_name = 'asia')"
   ]
  },
  {
   "cell_type": "code",
   "execution_count": 6,
   "metadata": {},
   "outputs": [
    {
     "data": {
      "text/plain": [
       "Index(['Case', 'CC3', 'Country', 'Year', 'Banking Crisis ', 'Systemic Crisis',\n",
       "       'Gold Standard', 'Domestic_Debt_In_Default',\n",
       "       'Sovereign_Debt_In_Default', 'Independence', 'Currency Crises',\n",
       "       'Inflation Crises'],\n",
       "      dtype='object')"
      ]
     },
     "execution_count": 6,
     "metadata": {},
     "output_type": "execute_result"
    }
   ],
   "source": [
    "df2.columns"
   ]
  },
  {
   "cell_type": "code",
   "execution_count": 7,
   "metadata": {},
   "outputs": [],
   "source": [
    "df2.rename(columns = {'Country':'country', 'Year':'year', 'Banking Crisis ': 'banking_crisis', 'Systemic Crisis':'systemic_crisis', 'Gold Standard':'gold_standard','Currency Crises':'currency_crises','Inflation Crises':'inflation_crises'}, inplace = True)"
   ]
  },
  {
   "cell_type": "code",
   "execution_count": 14,
   "metadata": {},
   "outputs": [
    {
     "data": {
      "text/plain": [
       "Index(['Case', 'CC3', 'country', 'year', 'banking_crisis', 'systemic_crisis',\n",
       "       'gold_standard', 'Domestic_Debt_In_Default',\n",
       "       'Sovereign_Debt_In_Default', 'Independence', 'currency_crises',\n",
       "       'inflation_crises'],\n",
       "      dtype='object')"
      ]
     },
     "execution_count": 14,
     "metadata": {},
     "output_type": "execute_result"
    }
   ],
   "source": [
    "df2.columns"
   ]
  },
  {
   "cell_type": "code",
   "execution_count": 17,
   "metadata": {},
   "outputs": [],
   "source": [
    "# removing unneccesary data\n",
    "\n",
    "df2.drop(['Case','CC3','country'], axis=1, inplace=True)"
   ]
  },
  {
   "cell_type": "code",
   "execution_count": 19,
   "metadata": {},
   "outputs": [
    {
     "data": {
      "text/plain": [
       "Index(['banking_crisis', 'systemic_crisis', 'gold_standard',\n",
       "       'Domestic_Debt_In_Default', 'Sovereign_Debt_In_Default', 'Independence',\n",
       "       'currency_crises', 'inflation_crises'],\n",
       "      dtype='object')"
      ]
     },
     "execution_count": 19,
     "metadata": {},
     "output_type": "execute_result"
    }
   ],
   "source": [
    "df2.drop(['year'], axis=1, inplace=True)\n",
    "df2.columns"
   ]
  },
  {
   "cell_type": "code",
   "execution_count": 20,
   "metadata": {},
   "outputs": [],
   "source": [
    "# scaling the data\n",
    "\n",
    "df_scaled = preprocessing.scale(df2)\n",
    "df_scaled = pd.DataFrame(df_scaled, columns=df2.columns)\n",
    "df_scaled['banking_crisis'] = df2['banking_crisis']\n",
    "df2 = df_scaled"
   ]
  },
  {
   "cell_type": "code",
   "execution_count": 21,
   "metadata": {},
   "outputs": [],
   "source": [
    "# divide the data into attributes (dependent variables) and labels (indepenedent variable)\n",
    "X = df2.loc[:,df2.columns != 'banking_crisis']\n",
    "Y = df2['banking_crisis']"
   ]
  },
  {
   "cell_type": "code",
   "execution_count": 24,
   "metadata": {},
   "outputs": [],
   "source": [
    "# breaking data into training data, validation data, and test data\n",
    "X_train, X_test, y_train, y_test = train_test_split(X,Y,test_size = 0.2)\n",
    "X_train, X_val, y_train, y_val = train_test_split(X_train,y_train, test_size = 0.2)"
   ]
  },
  {
   "cell_type": "code",
   "execution_count": 25,
   "metadata": {},
   "outputs": [
    {
     "name": "stdout",
     "output_type": "stream",
     "text": [
      "(2821, 7)\n"
     ]
    }
   ],
   "source": [
    "# number of inputs\n",
    "print(X.shape)"
   ]
  },
  {
   "cell_type": "code",
   "execution_count": 27,
   "metadata": {},
   "outputs": [
    {
     "name": "stdout",
     "output_type": "stream",
     "text": [
      "Epoch 1/200\n",
      "57/57 [==============================] - 1s 10ms/step - loss: 0.4796 - accuracy: 0.8930\n",
      "Epoch 2/200\n",
      "57/57 [==============================] - 0s 6ms/step - loss: 0.3444 - accuracy: 0.9374\n",
      "Epoch 3/200\n",
      "57/57 [==============================] - 0s 6ms/step - loss: 0.2595 - accuracy: 0.9523\n",
      "Epoch 4/200\n",
      "57/57 [==============================] - 0s 5ms/step - loss: 0.2082 - accuracy: 0.9551\n",
      "Epoch 5/200\n",
      "57/57 [==============================] - 0s 6ms/step - loss: 0.1762 - accuracy: 0.9623\n",
      "Epoch 6/200\n",
      "57/57 [==============================] - 0s 6ms/step - loss: 0.1564 - accuracy: 0.9678\n",
      "Epoch 7/200\n",
      "57/57 [==============================] - 0s 5ms/step - loss: 0.1449 - accuracy: 0.9678\n",
      "Epoch 8/200\n",
      "57/57 [==============================] - 0s 5ms/step - loss: 0.1379 - accuracy: 0.9678\n",
      "Epoch 9/200\n",
      "57/57 [==============================] - 0s 5ms/step - loss: 0.1331 - accuracy: 0.9678\n",
      "Epoch 10/200\n",
      "57/57 [==============================] - 0s 5ms/step - loss: 0.1298 - accuracy: 0.9678\n",
      "Epoch 11/200\n",
      "57/57 [==============================] - 0s 5ms/step - loss: 0.1276 - accuracy: 0.9678\n",
      "Epoch 12/200\n",
      "57/57 [==============================] - 0s 5ms/step - loss: 0.1259 - accuracy: 0.9678\n",
      "Epoch 13/200\n",
      "57/57 [==============================] - 0s 4ms/step - loss: 0.1247 - accuracy: 0.9678\n",
      "Epoch 14/200\n",
      "57/57 [==============================] - 0s 3ms/step - loss: 0.1239 - accuracy: 0.9678\n",
      "Epoch 15/200\n",
      "57/57 [==============================] - 0s 4ms/step - loss: 0.1229 - accuracy: 0.9690\n",
      "Epoch 16/200\n",
      "57/57 [==============================] - 0s 3ms/step - loss: 0.1222 - accuracy: 0.9690\n",
      "Epoch 17/200\n",
      "57/57 [==============================] - 0s 3ms/step - loss: 0.1216 - accuracy: 0.9690\n",
      "Epoch 18/200\n",
      "57/57 [==============================] - 0s 4ms/step - loss: 0.1212 - accuracy: 0.9690\n",
      "Epoch 19/200\n",
      "57/57 [==============================] - 0s 3ms/step - loss: 0.1208 - accuracy: 0.9690\n",
      "Epoch 20/200\n",
      "57/57 [==============================] - 0s 3ms/step - loss: 0.1204 - accuracy: 0.9690\n",
      "Epoch 21/200\n",
      "57/57 [==============================] - 0s 3ms/step - loss: 0.1201 - accuracy: 0.9690\n",
      "Epoch 22/200\n",
      "57/57 [==============================] - 0s 3ms/step - loss: 0.1198 - accuracy: 0.9690\n",
      "Epoch 23/200\n",
      "57/57 [==============================] - 0s 3ms/step - loss: 0.1195 - accuracy: 0.9690\n",
      "Epoch 24/200\n",
      "57/57 [==============================] - 0s 3ms/step - loss: 0.1194 - accuracy: 0.9690\n",
      "Epoch 25/200\n",
      "57/57 [==============================] - 0s 3ms/step - loss: 0.1193 - accuracy: 0.9690\n",
      "Epoch 26/200\n",
      "57/57 [==============================] - 0s 4ms/step - loss: 0.1189 - accuracy: 0.9690\n",
      "Epoch 27/200\n",
      "57/57 [==============================] - 0s 5ms/step - loss: 0.1190 - accuracy: 0.9690\n",
      "Epoch 28/200\n",
      "57/57 [==============================] - 0s 3ms/step - loss: 0.1186 - accuracy: 0.9690\n",
      "Epoch 29/200\n",
      "57/57 [==============================] - 0s 3ms/step - loss: 0.1186 - accuracy: 0.9690\n",
      "Epoch 30/200\n",
      "57/57 [==============================] - 0s 3ms/step - loss: 0.1182 - accuracy: 0.9690\n",
      "Epoch 31/200\n",
      "57/57 [==============================] - 0s 3ms/step - loss: 0.1183 - accuracy: 0.9690\n",
      "Epoch 32/200\n",
      "57/57 [==============================] - 0s 3ms/step - loss: 0.1180 - accuracy: 0.9690\n",
      "Epoch 33/200\n",
      "57/57 [==============================] - 0s 3ms/step - loss: 0.1179 - accuracy: 0.9690\n",
      "Epoch 34/200\n",
      "57/57 [==============================] - 0s 3ms/step - loss: 0.1178 - accuracy: 0.9690\n",
      "Epoch 35/200\n",
      "57/57 [==============================] - 0s 3ms/step - loss: 0.1176 - accuracy: 0.9690\n",
      "Epoch 36/200\n",
      "57/57 [==============================] - 0s 3ms/step - loss: 0.1176 - accuracy: 0.9695\n",
      "Epoch 37/200\n",
      "57/57 [==============================] - 0s 4ms/step - loss: 0.1176 - accuracy: 0.9695\n",
      "Epoch 38/200\n",
      "57/57 [==============================] - 0s 4ms/step - loss: 0.1174 - accuracy: 0.9695: 0s - loss: 0.1136 - accuracy: \n",
      "Epoch 39/200\n",
      "57/57 [==============================] - 0s 3ms/step - loss: 0.1172 - accuracy: 0.9695\n",
      "Epoch 40/200\n",
      "57/57 [==============================] - 0s 3ms/step - loss: 0.1172 - accuracy: 0.9695\n",
      "Epoch 41/200\n",
      "57/57 [==============================] - 0s 3ms/step - loss: 0.1170 - accuracy: 0.9695\n",
      "Epoch 42/200\n",
      "57/57 [==============================] - 0s 2ms/step - loss: 0.1169 - accuracy: 0.9695\n",
      "Epoch 43/200\n",
      "57/57 [==============================] - 0s 2ms/step - loss: 0.1169 - accuracy: 0.9695\n",
      "Epoch 44/200\n",
      "57/57 [==============================] - 0s 2ms/step - loss: 0.1168 - accuracy: 0.9695\n",
      "Epoch 45/200\n",
      "57/57 [==============================] - 0s 2ms/step - loss: 0.1169 - accuracy: 0.9695\n",
      "Epoch 46/200\n",
      "57/57 [==============================] - 0s 2ms/step - loss: 0.1166 - accuracy: 0.9695\n",
      "Epoch 47/200\n",
      "57/57 [==============================] - 0s 3ms/step - loss: 0.1165 - accuracy: 0.9695\n",
      "Epoch 48/200\n",
      "57/57 [==============================] - 0s 2ms/step - loss: 0.1167 - accuracy: 0.9695\n",
      "Epoch 49/200\n",
      "57/57 [==============================] - 0s 2ms/step - loss: 0.1163 - accuracy: 0.9695\n",
      "Epoch 50/200\n",
      "57/57 [==============================] - 0s 2ms/step - loss: 0.1166 - accuracy: 0.9695\n",
      "Epoch 51/200\n",
      "57/57 [==============================] - 0s 2ms/step - loss: 0.1162 - accuracy: 0.9695\n",
      "Epoch 52/200\n",
      "57/57 [==============================] - 0s 2ms/step - loss: 0.1164 - accuracy: 0.9695\n",
      "Epoch 53/200\n",
      "57/57 [==============================] - 0s 2ms/step - loss: 0.1160 - accuracy: 0.9695\n",
      "Epoch 54/200\n",
      "57/57 [==============================] - 0s 2ms/step - loss: 0.1160 - accuracy: 0.9695\n",
      "Epoch 55/200\n",
      "57/57 [==============================] - 0s 2ms/step - loss: 0.1158 - accuracy: 0.9695\n",
      "Epoch 56/200\n",
      "57/57 [==============================] - 0s 2ms/step - loss: 0.1159 - accuracy: 0.9695\n",
      "Epoch 57/200\n",
      "57/57 [==============================] - 0s 2ms/step - loss: 0.1158 - accuracy: 0.9695\n",
      "Epoch 58/200\n",
      "57/57 [==============================] - 0s 2ms/step - loss: 0.1157 - accuracy: 0.9695\n",
      "Epoch 59/200\n",
      "57/57 [==============================] - 0s 2ms/step - loss: 0.1156 - accuracy: 0.9695\n",
      "Epoch 60/200\n",
      "57/57 [==============================] - 0s 2ms/step - loss: 0.1157 - accuracy: 0.9695\n",
      "Epoch 61/200\n",
      "57/57 [==============================] - 0s 2ms/step - loss: 0.1157 - accuracy: 0.9695\n",
      "Epoch 62/200\n",
      "57/57 [==============================] - 0s 2ms/step - loss: 0.1157 - accuracy: 0.9695\n",
      "Epoch 63/200\n",
      "57/57 [==============================] - 0s 2ms/step - loss: 0.1156 - accuracy: 0.9695: 0s - loss: 0.1210 - accuracy: 0.96\n",
      "Epoch 64/200\n",
      "57/57 [==============================] - 0s 2ms/step - loss: 0.1155 - accuracy: 0.9695\n",
      "Epoch 65/200\n",
      "57/57 [==============================] - 0s 2ms/step - loss: 0.1156 - accuracy: 0.9695\n",
      "Epoch 66/200\n",
      "57/57 [==============================] - 0s 2ms/step - loss: 0.1157 - accuracy: 0.9695\n",
      "Epoch 67/200\n",
      "57/57 [==============================] - 0s 2ms/step - loss: 0.1155 - accuracy: 0.9695\n",
      "Epoch 68/200\n",
      "57/57 [==============================] - 0s 2ms/step - loss: 0.1153 - accuracy: 0.9695\n",
      "Epoch 69/200\n",
      "57/57 [==============================] - 0s 2ms/step - loss: 0.1154 - accuracy: 0.9695\n",
      "Epoch 70/200\n",
      "57/57 [==============================] - 0s 2ms/step - loss: 0.1153 - accuracy: 0.9695\n",
      "Epoch 71/200\n",
      "57/57 [==============================] - 0s 2ms/step - loss: 0.1153 - accuracy: 0.9695\n",
      "Epoch 72/200\n",
      "57/57 [==============================] - 0s 2ms/step - loss: 0.1153 - accuracy: 0.9695\n",
      "Epoch 73/200\n",
      "57/57 [==============================] - 0s 2ms/step - loss: 0.1154 - accuracy: 0.9695\n",
      "Epoch 74/200\n",
      "57/57 [==============================] - 0s 2ms/step - loss: 0.1153 - accuracy: 0.9695\n",
      "Epoch 75/200\n",
      "57/57 [==============================] - 0s 2ms/step - loss: 0.1152 - accuracy: 0.9695\n",
      "Epoch 76/200\n",
      "57/57 [==============================] - 0s 2ms/step - loss: 0.1153 - accuracy: 0.9695\n",
      "Epoch 77/200\n",
      "57/57 [==============================] - 0s 2ms/step - loss: 0.1153 - accuracy: 0.9695\n",
      "Epoch 78/200\n",
      "57/57 [==============================] - 0s 2ms/step - loss: 0.1151 - accuracy: 0.9695\n",
      "Epoch 79/200\n",
      "57/57 [==============================] - 0s 2ms/step - loss: 0.1150 - accuracy: 0.9695\n",
      "Epoch 80/200\n",
      "57/57 [==============================] - 0s 2ms/step - loss: 0.1151 - accuracy: 0.9695\n",
      "Epoch 81/200\n",
      "57/57 [==============================] - 0s 2ms/step - loss: 0.1150 - accuracy: 0.9695\n",
      "Epoch 82/200\n"
     ]
    },
    {
     "name": "stdout",
     "output_type": "stream",
     "text": [
      "57/57 [==============================] - 0s 2ms/step - loss: 0.1150 - accuracy: 0.9695\n",
      "Epoch 83/200\n",
      "57/57 [==============================] - 0s 2ms/step - loss: 0.1150 - accuracy: 0.9695\n",
      "Epoch 84/200\n",
      "57/57 [==============================] - 0s 2ms/step - loss: 0.1150 - accuracy: 0.9695\n",
      "Epoch 85/200\n",
      "57/57 [==============================] - 0s 2ms/step - loss: 0.1150 - accuracy: 0.9695\n",
      "Epoch 86/200\n",
      "57/57 [==============================] - 0s 2ms/step - loss: 0.1149 - accuracy: 0.9695\n",
      "Epoch 87/200\n",
      "57/57 [==============================] - 0s 2ms/step - loss: 0.1149 - accuracy: 0.9695\n",
      "Epoch 88/200\n",
      "57/57 [==============================] - 0s 2ms/step - loss: 0.1149 - accuracy: 0.9695\n",
      "Epoch 89/200\n",
      "57/57 [==============================] - 0s 2ms/step - loss: 0.1150 - accuracy: 0.9695\n",
      "Epoch 90/200\n",
      "57/57 [==============================] - 0s 2ms/step - loss: 0.1149 - accuracy: 0.9695\n",
      "Epoch 91/200\n",
      "57/57 [==============================] - 0s 2ms/step - loss: 0.1149 - accuracy: 0.9695\n",
      "Epoch 92/200\n",
      "57/57 [==============================] - 0s 2ms/step - loss: 0.1148 - accuracy: 0.9695\n",
      "Epoch 93/200\n",
      "57/57 [==============================] - 0s 2ms/step - loss: 0.1148 - accuracy: 0.9695\n",
      "Epoch 94/200\n",
      "57/57 [==============================] - 0s 2ms/step - loss: 0.1149 - accuracy: 0.9695\n",
      "Epoch 95/200\n",
      "57/57 [==============================] - 0s 2ms/step - loss: 0.1148 - accuracy: 0.9695\n",
      "Epoch 96/200\n",
      "57/57 [==============================] - 0s 2ms/step - loss: 0.1147 - accuracy: 0.9695\n",
      "Epoch 97/200\n",
      "57/57 [==============================] - 0s 2ms/step - loss: 0.1147 - accuracy: 0.9695\n",
      "Epoch 98/200\n",
      "57/57 [==============================] - 0s 2ms/step - loss: 0.1147 - accuracy: 0.9695\n",
      "Epoch 99/200\n",
      "57/57 [==============================] - 0s 2ms/step - loss: 0.1146 - accuracy: 0.9695\n",
      "Epoch 100/200\n",
      "57/57 [==============================] - 0s 2ms/step - loss: 0.1146 - accuracy: 0.9695\n",
      "Epoch 101/200\n",
      "57/57 [==============================] - 0s 2ms/step - loss: 0.1148 - accuracy: 0.9695\n",
      "Epoch 102/200\n",
      "57/57 [==============================] - 0s 2ms/step - loss: 0.1147 - accuracy: 0.9701\n",
      "Epoch 103/200\n",
      "57/57 [==============================] - 0s 2ms/step - loss: 0.1146 - accuracy: 0.9701\n",
      "Epoch 104/200\n",
      "57/57 [==============================] - 0s 2ms/step - loss: 0.1145 - accuracy: 0.9701\n",
      "Epoch 105/200\n",
      "57/57 [==============================] - 0s 2ms/step - loss: 0.1146 - accuracy: 0.9701\n",
      "Epoch 106/200\n",
      "57/57 [==============================] - 0s 2ms/step - loss: 0.1147 - accuracy: 0.9701\n",
      "Epoch 107/200\n",
      "57/57 [==============================] - 0s 2ms/step - loss: 0.1146 - accuracy: 0.9701\n",
      "Epoch 108/200\n",
      "57/57 [==============================] - 0s 2ms/step - loss: 0.1145 - accuracy: 0.9701\n",
      "Epoch 109/200\n",
      "57/57 [==============================] - 0s 3ms/step - loss: 0.1144 - accuracy: 0.9701\n",
      "Epoch 110/200\n",
      "57/57 [==============================] - 0s 3ms/step - loss: 0.1144 - accuracy: 0.9701\n",
      "Epoch 111/200\n",
      "57/57 [==============================] - 0s 3ms/step - loss: 0.1144 - accuracy: 0.9701\n",
      "Epoch 112/200\n",
      "57/57 [==============================] - 0s 3ms/step - loss: 0.1145 - accuracy: 0.9701\n",
      "Epoch 113/200\n",
      "57/57 [==============================] - 0s 3ms/step - loss: 0.1145 - accuracy: 0.9701\n",
      "Epoch 114/200\n",
      "57/57 [==============================] - 0s 2ms/step - loss: 0.1144 - accuracy: 0.9701\n",
      "Epoch 115/200\n",
      "57/57 [==============================] - 0s 2ms/step - loss: 0.1145 - accuracy: 0.9701\n",
      "Epoch 116/200\n",
      "57/57 [==============================] - 0s 2ms/step - loss: 0.1144 - accuracy: 0.9701\n",
      "Epoch 117/200\n",
      "57/57 [==============================] - 0s 2ms/step - loss: 0.1143 - accuracy: 0.9701\n",
      "Epoch 118/200\n",
      "57/57 [==============================] - 0s 2ms/step - loss: 0.1144 - accuracy: 0.9701\n",
      "Epoch 119/200\n",
      "57/57 [==============================] - 0s 2ms/step - loss: 0.1144 - accuracy: 0.9701\n",
      "Epoch 120/200\n",
      "57/57 [==============================] - 0s 2ms/step - loss: 0.1145 - accuracy: 0.9701\n",
      "Epoch 121/200\n",
      "57/57 [==============================] - 0s 2ms/step - loss: 0.1145 - accuracy: 0.9701\n",
      "Epoch 122/200\n",
      "57/57 [==============================] - 0s 2ms/step - loss: 0.1143 - accuracy: 0.9701\n",
      "Epoch 123/200\n",
      "57/57 [==============================] - 0s 2ms/step - loss: 0.1144 - accuracy: 0.9701\n",
      "Epoch 124/200\n",
      "57/57 [==============================] - 0s 3ms/step - loss: 0.1143 - accuracy: 0.9701\n",
      "Epoch 125/200\n",
      "57/57 [==============================] - 0s 2ms/step - loss: 0.1146 - accuracy: 0.9701\n",
      "Epoch 126/200\n",
      "57/57 [==============================] - 0s 2ms/step - loss: 0.1143 - accuracy: 0.9701\n",
      "Epoch 127/200\n",
      "57/57 [==============================] - 0s 2ms/step - loss: 0.1145 - accuracy: 0.9701\n",
      "Epoch 128/200\n",
      "57/57 [==============================] - 0s 2ms/step - loss: 0.1142 - accuracy: 0.9701\n",
      "Epoch 129/200\n",
      "57/57 [==============================] - 0s 2ms/step - loss: 0.1142 - accuracy: 0.9701\n",
      "Epoch 130/200\n",
      "57/57 [==============================] - 0s 2ms/step - loss: 0.1142 - accuracy: 0.9701\n",
      "Epoch 131/200\n",
      "57/57 [==============================] - 0s 2ms/step - loss: 0.1141 - accuracy: 0.9701\n",
      "Epoch 132/200\n",
      "57/57 [==============================] - 0s 2ms/step - loss: 0.1142 - accuracy: 0.9701\n",
      "Epoch 133/200\n",
      "57/57 [==============================] - 0s 2ms/step - loss: 0.1143 - accuracy: 0.9701\n",
      "Epoch 134/200\n",
      "57/57 [==============================] - 0s 2ms/step - loss: 0.1142 - accuracy: 0.9701\n",
      "Epoch 135/200\n",
      "57/57 [==============================] - 0s 2ms/step - loss: 0.1142 - accuracy: 0.9701\n",
      "Epoch 136/200\n",
      "57/57 [==============================] - 0s 2ms/step - loss: 0.1144 - accuracy: 0.9701\n",
      "Epoch 137/200\n",
      "57/57 [==============================] - 0s 2ms/step - loss: 0.1142 - accuracy: 0.9701\n",
      "Epoch 138/200\n",
      "57/57 [==============================] - 0s 2ms/step - loss: 0.1141 - accuracy: 0.9701\n",
      "Epoch 139/200\n",
      "57/57 [==============================] - 0s 2ms/step - loss: 0.1143 - accuracy: 0.9701\n",
      "Epoch 140/200\n",
      "57/57 [==============================] - 0s 2ms/step - loss: 0.1143 - accuracy: 0.9701\n",
      "Epoch 141/200\n",
      "57/57 [==============================] - 0s 1ms/step - loss: 0.1141 - accuracy: 0.9701\n",
      "Epoch 142/200\n",
      "57/57 [==============================] - 0s 2ms/step - loss: 0.1142 - accuracy: 0.9701\n",
      "Epoch 143/200\n",
      "57/57 [==============================] - 0s 2ms/step - loss: 0.1141 - accuracy: 0.9701\n",
      "Epoch 144/200\n",
      "57/57 [==============================] - 0s 2ms/step - loss: 0.1141 - accuracy: 0.9701\n",
      "Epoch 145/200\n",
      "57/57 [==============================] - 0s 2ms/step - loss: 0.1140 - accuracy: 0.9701\n",
      "Epoch 146/200\n",
      "57/57 [==============================] - 0s 2ms/step - loss: 0.1141 - accuracy: 0.9701\n",
      "Epoch 147/200\n",
      "57/57 [==============================] - 0s 2ms/step - loss: 0.1140 - accuracy: 0.9701\n",
      "Epoch 148/200\n",
      "57/57 [==============================] - 0s 2ms/step - loss: 0.1141 - accuracy: 0.9701\n",
      "Epoch 149/200\n",
      "57/57 [==============================] - 0s 2ms/step - loss: 0.1142 - accuracy: 0.9701\n",
      "Epoch 150/200\n",
      "57/57 [==============================] - 0s 2ms/step - loss: 0.1142 - accuracy: 0.9701\n",
      "Epoch 151/200\n",
      "57/57 [==============================] - 0s 3ms/step - loss: 0.1141 - accuracy: 0.9701\n",
      "Epoch 152/200\n",
      "57/57 [==============================] - 0s 3ms/step - loss: 0.1142 - accuracy: 0.9701\n",
      "Epoch 153/200\n",
      "57/57 [==============================] - 0s 2ms/step - loss: 0.1141 - accuracy: 0.9701\n",
      "Epoch 154/200\n",
      "57/57 [==============================] - 0s 2ms/step - loss: 0.1140 - accuracy: 0.9701\n",
      "Epoch 155/200\n",
      "57/57 [==============================] - 0s 1ms/step - loss: 0.1141 - accuracy: 0.9701\n",
      "Epoch 156/200\n",
      "57/57 [==============================] - 0s 2ms/step - loss: 0.1140 - accuracy: 0.9701\n",
      "Epoch 157/200\n",
      "57/57 [==============================] - 0s 2ms/step - loss: 0.1139 - accuracy: 0.9701\n",
      "Epoch 158/200\n",
      "57/57 [==============================] - 0s 2ms/step - loss: 0.1141 - accuracy: 0.9701\n",
      "Epoch 159/200\n",
      "57/57 [==============================] - 0s 1ms/step - loss: 0.1138 - accuracy: 0.9701\n",
      "Epoch 160/200\n",
      "57/57 [==============================] - 0s 2ms/step - loss: 0.1140 - accuracy: 0.9701\n",
      "Epoch 161/200\n",
      "57/57 [==============================] - 0s 2ms/step - loss: 0.1140 - accuracy: 0.9701\n",
      "Epoch 162/200\n",
      "57/57 [==============================] - 0s 2ms/step - loss: 0.1143 - accuracy: 0.9701\n",
      "Epoch 163/200\n"
     ]
    },
    {
     "name": "stdout",
     "output_type": "stream",
     "text": [
      "57/57 [==============================] - 0s 1ms/step - loss: 0.1139 - accuracy: 0.9701\n",
      "Epoch 164/200\n",
      "57/57 [==============================] - 0s 1ms/step - loss: 0.1140 - accuracy: 0.9701\n",
      "Epoch 165/200\n",
      "57/57 [==============================] - 0s 2ms/step - loss: 0.1139 - accuracy: 0.9701\n",
      "Epoch 166/200\n",
      "57/57 [==============================] - 0s 3ms/step - loss: 0.1142 - accuracy: 0.9701\n",
      "Epoch 167/200\n",
      "57/57 [==============================] - 0s 2ms/step - loss: 0.1140 - accuracy: 0.9701\n",
      "Epoch 168/200\n",
      "57/57 [==============================] - 0s 1ms/step - loss: 0.1141 - accuracy: 0.9701\n",
      "Epoch 169/200\n",
      "57/57 [==============================] - 0s 1ms/step - loss: 0.1139 - accuracy: 0.9701\n",
      "Epoch 170/200\n",
      "57/57 [==============================] - 0s 1ms/step - loss: 0.1139 - accuracy: 0.9701\n",
      "Epoch 171/200\n",
      "57/57 [==============================] - 0s 1ms/step - loss: 0.1140 - accuracy: 0.9701\n",
      "Epoch 172/200\n",
      "57/57 [==============================] - 0s 1ms/step - loss: 0.1141 - accuracy: 0.9701\n",
      "Epoch 173/200\n",
      "57/57 [==============================] - 0s 1ms/step - loss: 0.1138 - accuracy: 0.9701\n",
      "Epoch 174/200\n",
      "57/57 [==============================] - 0s 1ms/step - loss: 0.1139 - accuracy: 0.9701\n",
      "Epoch 175/200\n",
      "57/57 [==============================] - 0s 1ms/step - loss: 0.1141 - accuracy: 0.9701\n",
      "Epoch 176/200\n",
      "57/57 [==============================] - 0s 1ms/step - loss: 0.1141 - accuracy: 0.9701\n",
      "Epoch 177/200\n",
      "57/57 [==============================] - 0s 1ms/step - loss: 0.1139 - accuracy: 0.9701\n",
      "Epoch 178/200\n",
      "57/57 [==============================] - 0s 1ms/step - loss: 0.1140 - accuracy: 0.9701\n",
      "Epoch 179/200\n",
      "57/57 [==============================] - 0s 1ms/step - loss: 0.1139 - accuracy: 0.9701\n",
      "Epoch 180/200\n",
      "57/57 [==============================] - 0s 2ms/step - loss: 0.1140 - accuracy: 0.9701\n",
      "Epoch 181/200\n",
      "57/57 [==============================] - 0s 1ms/step - loss: 0.1141 - accuracy: 0.9701\n",
      "Epoch 182/200\n",
      "57/57 [==============================] - 0s 1ms/step - loss: 0.1140 - accuracy: 0.9701\n",
      "Epoch 183/200\n",
      "57/57 [==============================] - 0s 1ms/step - loss: 0.1139 - accuracy: 0.9701\n",
      "Epoch 184/200\n",
      "57/57 [==============================] - 0s 1ms/step - loss: 0.1140 - accuracy: 0.9701\n",
      "Epoch 185/200\n",
      "57/57 [==============================] - 0s 1ms/step - loss: 0.1140 - accuracy: 0.9701\n",
      "Epoch 186/200\n",
      "57/57 [==============================] - 0s 1ms/step - loss: 0.1137 - accuracy: 0.9701\n",
      "Epoch 187/200\n",
      "57/57 [==============================] - 0s 1ms/step - loss: 0.1138 - accuracy: 0.9701\n",
      "Epoch 188/200\n",
      "57/57 [==============================] - 0s 1ms/step - loss: 0.1138 - accuracy: 0.9701\n",
      "Epoch 189/200\n",
      "57/57 [==============================] - 0s 1ms/step - loss: 0.1139 - accuracy: 0.9701\n",
      "Epoch 190/200\n",
      "57/57 [==============================] - 0s 2ms/step - loss: 0.1139 - accuracy: 0.9701\n",
      "Epoch 191/200\n",
      "57/57 [==============================] - 0s 4ms/step - loss: 0.1138 - accuracy: 0.9701\n",
      "Epoch 192/200\n",
      "57/57 [==============================] - 0s 4ms/step - loss: 0.1139 - accuracy: 0.9701\n",
      "Epoch 193/200\n",
      "57/57 [==============================] - 0s 4ms/step - loss: 0.1141 - accuracy: 0.9701\n",
      "Epoch 194/200\n",
      "57/57 [==============================] - 0s 4ms/step - loss: 0.1138 - accuracy: 0.9701\n",
      "Epoch 195/200\n",
      "57/57 [==============================] - 0s 4ms/step - loss: 0.1138 - accuracy: 0.9701\n",
      "Epoch 196/200\n",
      "57/57 [==============================] - 0s 5ms/step - loss: 0.1138 - accuracy: 0.9701: 0s - loss: 0.1284 - accuracy: \n",
      "Epoch 197/200\n",
      "57/57 [==============================] - 0s 5ms/step - loss: 0.1139 - accuracy: 0.9701\n",
      "Epoch 198/200\n",
      "57/57 [==============================] - 0s 4ms/step - loss: 0.1138 - accuracy: 0.9701\n",
      "Epoch 199/200\n",
      "57/57 [==============================] - 0s 8ms/step - loss: 0.1137 - accuracy: 0.9701\n",
      "Epoch 200/200\n",
      "57/57 [==============================] - 0s 6ms/step - loss: 0.1139 - accuracy: 0.9701\n",
      "57/57 [==============================] - 0s 3ms/step - loss: 0.1134 - accuracy: 0.9701\n",
      "Training Accuracy: 97.01%\n",
      "\n",
      "18/18 [==============================] - 0s 3ms/step - loss: 0.0692 - accuracy: 0.9894\n",
      "Testing Accuracy: 98.94%\n",
      "\n"
     ]
    }
   ],
   "source": [
    "# create model\n",
    "model = Sequential()\n",
    "model.add(Dense(11, input_dim=7, activation='relu'))\n",
    "model.add(Dense(1, activation='sigmoid'))\n",
    "# Compile model\n",
    "model.compile(loss='binary_crossentropy', optimizer='adam', metrics=['accuracy'])\n",
    "\n",
    "# training the network\n",
    "\n",
    "model.fit(X_train, y_train, epochs=200)\n",
    "\n",
    "# scoring it on the data it trained on as well as test data\n",
    "\n",
    "scores = model.evaluate(X_train, y_train)\n",
    "print (\"Training Accuracy: %.2f%%\\n\" % (scores[1]*100))\n",
    "\n",
    "scores = model.evaluate(X_test, y_test)\n",
    "print (\"Testing Accuracy: %.2f%%\\n\" % (scores[1]*100))"
   ]
  },
  {
   "cell_type": "markdown",
   "metadata": {},
   "source": [
    "neural net showed significantly better accuracy in both trainig and testing datasets"
   ]
  },
  {
   "cell_type": "code",
   "execution_count": 28,
   "metadata": {},
   "outputs": [
    {
     "name": "stdout",
     "output_type": "stream",
     "text": [
      "Epoch 1/200\n",
      "57/57 [==============================] - 1s 12ms/step - loss: 0.5865 - accuracy: 0.9451\n",
      "Epoch 2/200\n",
      "57/57 [==============================] - 0s 7ms/step - loss: 0.4825 - accuracy: 0.9457\n",
      "Epoch 3/200\n",
      "57/57 [==============================] - 1s 9ms/step - loss: 0.3823 - accuracy: 0.9457: 0s - loss: 0.4158 - \n",
      "Epoch 4/200\n",
      "57/57 [==============================] - 0s 6ms/step - loss: 0.2907 - accuracy: 0.9457\n",
      "Epoch 5/200\n",
      "57/57 [==============================] - 0s 3ms/step - loss: 0.2324 - accuracy: 0.9457\n",
      "Epoch 6/200\n",
      "57/57 [==============================] - 0s 4ms/step - loss: 0.2038 - accuracy: 0.9457\n",
      "Epoch 7/200\n",
      "57/57 [==============================] - 0s 4ms/step - loss: 0.1893 - accuracy: 0.9457\n",
      "Epoch 8/200\n",
      "57/57 [==============================] - 0s 3ms/step - loss: 0.1820 - accuracy: 0.9457\n",
      "Epoch 9/200\n",
      "57/57 [==============================] - 0s 3ms/step - loss: 0.1781 - accuracy: 0.9457\n",
      "Epoch 10/200\n",
      "57/57 [==============================] - 0s 3ms/step - loss: 0.1757 - accuracy: 0.9457\n",
      "Epoch 11/200\n",
      "57/57 [==============================] - 0s 3ms/step - loss: 0.1739 - accuracy: 0.9457\n",
      "Epoch 12/200\n",
      "57/57 [==============================] - 0s 3ms/step - loss: 0.1726 - accuracy: 0.9457\n",
      "Epoch 13/200\n",
      "57/57 [==============================] - 0s 3ms/step - loss: 0.1716 - accuracy: 0.9457\n",
      "Epoch 14/200\n",
      "57/57 [==============================] - 0s 4ms/step - loss: 0.1705 - accuracy: 0.9457\n",
      "Epoch 15/200\n",
      "57/57 [==============================] - 0s 3ms/step - loss: 0.1698 - accuracy: 0.9457\n",
      "Epoch 16/200\n",
      "57/57 [==============================] - 0s 4ms/step - loss: 0.1691 - accuracy: 0.9457\n",
      "Epoch 17/200\n",
      "57/57 [==============================] - 0s 3ms/step - loss: 0.1686 - accuracy: 0.9457\n",
      "Epoch 18/200\n",
      "57/57 [==============================] - 0s 3ms/step - loss: 0.1680 - accuracy: 0.9457\n",
      "Epoch 19/200\n",
      "57/57 [==============================] - 0s 3ms/step - loss: 0.1676 - accuracy: 0.9457\n",
      "Epoch 20/200\n",
      "57/57 [==============================] - 0s 3ms/step - loss: 0.1672 - accuracy: 0.9457\n",
      "Epoch 21/200\n",
      "57/57 [==============================] - 0s 3ms/step - loss: 0.1669 - accuracy: 0.9457\n",
      "Epoch 22/200\n",
      "57/57 [==============================] - 0s 4ms/step - loss: 0.1667 - accuracy: 0.9457\n",
      "Epoch 23/200\n",
      "57/57 [==============================] - 0s 3ms/step - loss: 0.1663 - accuracy: 0.9457\n",
      "Epoch 24/200\n",
      "57/57 [==============================] - 0s 3ms/step - loss: 0.1663 - accuracy: 0.9457\n",
      "Epoch 25/200\n",
      "57/57 [==============================] - 0s 3ms/step - loss: 0.1657 - accuracy: 0.9457\n",
      "Epoch 26/200\n",
      "57/57 [==============================] - 0s 3ms/step - loss: 0.1655 - accuracy: 0.9457\n",
      "Epoch 27/200\n",
      "57/57 [==============================] - 0s 3ms/step - loss: 0.1651 - accuracy: 0.9457\n",
      "Epoch 28/200\n",
      "57/57 [==============================] - 0s 4ms/step - loss: 0.1649 - accuracy: 0.9457\n",
      "Epoch 29/200\n",
      "57/57 [==============================] - 0s 3ms/step - loss: 0.1644 - accuracy: 0.9468\n",
      "Epoch 30/200\n",
      "57/57 [==============================] - 0s 4ms/step - loss: 0.1641 - accuracy: 0.9479\n",
      "Epoch 31/200\n",
      "57/57 [==============================] - 0s 3ms/step - loss: 0.1636 - accuracy: 0.9479\n",
      "Epoch 32/200\n",
      "57/57 [==============================] - 0s 3ms/step - loss: 0.1600 - accuracy: 0.9545\n",
      "Epoch 33/200\n",
      "57/57 [==============================] - 0s 5ms/step - loss: 0.1549 - accuracy: 0.9678\n",
      "Epoch 34/200\n",
      "57/57 [==============================] - 0s 5ms/step - loss: 0.1511 - accuracy: 0.9684\n",
      "Epoch 35/200\n",
      "57/57 [==============================] - 0s 3ms/step - loss: 0.1480 - accuracy: 0.9695\n",
      "Epoch 36/200\n",
      "57/57 [==============================] - 0s 4ms/step - loss: 0.1465 - accuracy: 0.9695\n",
      "Epoch 37/200\n",
      "57/57 [==============================] - 0s 4ms/step - loss: 0.1455 - accuracy: 0.9695\n",
      "Epoch 38/200\n",
      "57/57 [==============================] - 0s 5ms/step - loss: 0.1446 - accuracy: 0.9695\n",
      "Epoch 39/200\n",
      "57/57 [==============================] - 0s 4ms/step - loss: 0.1439 - accuracy: 0.9695\n",
      "Epoch 40/200\n",
      "57/57 [==============================] - 0s 3ms/step - loss: 0.1433 - accuracy: 0.9695\n",
      "Epoch 41/200\n",
      "57/57 [==============================] - 0s 3ms/step - loss: 0.1428 - accuracy: 0.9695\n",
      "Epoch 42/200\n",
      "57/57 [==============================] - 0s 3ms/step - loss: 0.1421 - accuracy: 0.9695\n",
      "Epoch 43/200\n",
      "57/57 [==============================] - 0s 3ms/step - loss: 0.1416 - accuracy: 0.9695\n",
      "Epoch 44/200\n",
      "57/57 [==============================] - 0s 3ms/step - loss: 0.1409 - accuracy: 0.9695\n",
      "Epoch 45/200\n",
      "57/57 [==============================] - 0s 4ms/step - loss: 0.1403 - accuracy: 0.9695\n",
      "Epoch 46/200\n",
      "57/57 [==============================] - 0s 4ms/step - loss: 0.1398 - accuracy: 0.9695\n",
      "Epoch 47/200\n",
      "57/57 [==============================] - 0s 5ms/step - loss: 0.1392 - accuracy: 0.9695\n",
      "Epoch 48/200\n",
      "57/57 [==============================] - 0s 4ms/step - loss: 0.1387 - accuracy: 0.9695\n",
      "Epoch 49/200\n",
      "57/57 [==============================] - 0s 3ms/step - loss: 0.1381 - accuracy: 0.9695\n",
      "Epoch 50/200\n",
      "57/57 [==============================] - 0s 4ms/step - loss: 0.1377 - accuracy: 0.9695\n",
      "Epoch 51/200\n",
      "57/57 [==============================] - 0s 3ms/step - loss: 0.1373 - accuracy: 0.9695\n",
      "Epoch 52/200\n",
      "57/57 [==============================] - 0s 2ms/step - loss: 0.1367 - accuracy: 0.9695\n",
      "Epoch 53/200\n",
      "57/57 [==============================] - 0s 3ms/step - loss: 0.1362 - accuracy: 0.9695\n",
      "Epoch 54/200\n",
      "57/57 [==============================] - 0s 3ms/step - loss: 0.1358 - accuracy: 0.9695\n",
      "Epoch 55/200\n",
      "57/57 [==============================] - 0s 3ms/step - loss: 0.1353 - accuracy: 0.9695\n",
      "Epoch 56/200\n",
      "57/57 [==============================] - 0s 5ms/step - loss: 0.1350 - accuracy: 0.9695\n",
      "Epoch 57/200\n",
      "57/57 [==============================] - 0s 4ms/step - loss: 0.1345 - accuracy: 0.9695\n",
      "Epoch 58/200\n",
      "57/57 [==============================] - 0s 3ms/step - loss: 0.1342 - accuracy: 0.9695\n",
      "Epoch 59/200\n",
      "57/57 [==============================] - 0s 2ms/step - loss: 0.1338 - accuracy: 0.9695\n",
      "Epoch 60/200\n",
      "57/57 [==============================] - 0s 2ms/step - loss: 0.1333 - accuracy: 0.9695\n",
      "Epoch 61/200\n",
      "57/57 [==============================] - 0s 3ms/step - loss: 0.1328 - accuracy: 0.9695\n",
      "Epoch 62/200\n",
      "57/57 [==============================] - 0s 3ms/step - loss: 0.1324 - accuracy: 0.9695\n",
      "Epoch 63/200\n",
      "57/57 [==============================] - 0s 2ms/step - loss: 0.1323 - accuracy: 0.9695\n",
      "Epoch 64/200\n",
      "57/57 [==============================] - 0s 2ms/step - loss: 0.1317 - accuracy: 0.9695\n",
      "Epoch 65/200\n",
      "57/57 [==============================] - 0s 2ms/step - loss: 0.1315 - accuracy: 0.9695\n",
      "Epoch 66/200\n",
      "57/57 [==============================] - 0s 2ms/step - loss: 0.1310 - accuracy: 0.9695\n",
      "Epoch 67/200\n",
      "57/57 [==============================] - 0s 2ms/step - loss: 0.1308 - accuracy: 0.9695\n",
      "Epoch 68/200\n",
      "57/57 [==============================] - 0s 2ms/step - loss: 0.1307 - accuracy: 0.9695\n",
      "Epoch 69/200\n",
      "57/57 [==============================] - 0s 3ms/step - loss: 0.1304 - accuracy: 0.9695\n",
      "Epoch 70/200\n",
      "57/57 [==============================] - 0s 2ms/step - loss: 0.1299 - accuracy: 0.9695\n",
      "Epoch 71/200\n",
      "57/57 [==============================] - 0s 2ms/step - loss: 0.1295 - accuracy: 0.9695\n",
      "Epoch 72/200\n",
      "57/57 [==============================] - 0s 2ms/step - loss: 0.1290 - accuracy: 0.9695\n",
      "Epoch 73/200\n",
      "57/57 [==============================] - 0s 2ms/step - loss: 0.1286 - accuracy: 0.9695\n",
      "Epoch 74/200\n",
      "57/57 [==============================] - 0s 3ms/step - loss: 0.1283 - accuracy: 0.9695\n",
      "Epoch 75/200\n",
      "57/57 [==============================] - 0s 2ms/step - loss: 0.1283 - accuracy: 0.9695\n",
      "Epoch 76/200\n",
      "57/57 [==============================] - 0s 2ms/step - loss: 0.1277 - accuracy: 0.9695\n",
      "Epoch 77/200\n",
      "57/57 [==============================] - 0s 3ms/step - loss: 0.1274 - accuracy: 0.9695\n",
      "Epoch 78/200\n",
      "57/57 [==============================] - 0s 3ms/step - loss: 0.1271 - accuracy: 0.9695\n",
      "Epoch 79/200\n",
      "57/57 [==============================] - 0s 2ms/step - loss: 0.1268 - accuracy: 0.9695\n",
      "Epoch 80/200\n",
      "57/57 [==============================] - 0s 2ms/step - loss: 0.1267 - accuracy: 0.9695\n",
      "Epoch 81/200\n",
      "57/57 [==============================] - 0s 2ms/step - loss: 0.1264 - accuracy: 0.9695\n",
      "Epoch 82/200\n"
     ]
    },
    {
     "name": "stdout",
     "output_type": "stream",
     "text": [
      "57/57 [==============================] - 0s 2ms/step - loss: 0.1262 - accuracy: 0.9695\n",
      "Epoch 83/200\n",
      "57/57 [==============================] - 0s 2ms/step - loss: 0.1259 - accuracy: 0.9695\n",
      "Epoch 84/200\n",
      "57/57 [==============================] - 0s 2ms/step - loss: 0.1256 - accuracy: 0.9695\n",
      "Epoch 85/200\n",
      "57/57 [==============================] - 0s 2ms/step - loss: 0.1256 - accuracy: 0.9695\n",
      "Epoch 86/200\n",
      "57/57 [==============================] - 0s 2ms/step - loss: 0.1252 - accuracy: 0.9695\n",
      "Epoch 87/200\n",
      "57/57 [==============================] - 0s 2ms/step - loss: 0.1251 - accuracy: 0.9695\n",
      "Epoch 88/200\n",
      "57/57 [==============================] - 0s 3ms/step - loss: 0.1253 - accuracy: 0.9695\n",
      "Epoch 89/200\n",
      "57/57 [==============================] - 0s 2ms/step - loss: 0.1246 - accuracy: 0.9695\n",
      "Epoch 90/200\n",
      "57/57 [==============================] - 0s 2ms/step - loss: 0.1246 - accuracy: 0.9695\n",
      "Epoch 91/200\n",
      "57/57 [==============================] - 0s 2ms/step - loss: 0.1245 - accuracy: 0.9695\n",
      "Epoch 92/200\n",
      "57/57 [==============================] - 0s 2ms/step - loss: 0.1241 - accuracy: 0.9695\n",
      "Epoch 93/200\n",
      "57/57 [==============================] - 0s 2ms/step - loss: 0.1241 - accuracy: 0.9695\n",
      "Epoch 94/200\n",
      "57/57 [==============================] - 0s 2ms/step - loss: 0.1238 - accuracy: 0.9695\n",
      "Epoch 95/200\n",
      "57/57 [==============================] - 0s 2ms/step - loss: 0.1236 - accuracy: 0.9695\n",
      "Epoch 96/200\n",
      "57/57 [==============================] - 0s 3ms/step - loss: 0.1236 - accuracy: 0.9695\n",
      "Epoch 97/200\n",
      "57/57 [==============================] - 0s 3ms/step - loss: 0.1234 - accuracy: 0.9695\n",
      "Epoch 98/200\n",
      "57/57 [==============================] - 0s 2ms/step - loss: 0.1231 - accuracy: 0.9695\n",
      "Epoch 99/200\n",
      "57/57 [==============================] - 0s 2ms/step - loss: 0.1230 - accuracy: 0.9695\n",
      "Epoch 100/200\n",
      "57/57 [==============================] - 0s 2ms/step - loss: 0.1229 - accuracy: 0.9695\n",
      "Epoch 101/200\n",
      "57/57 [==============================] - 0s 2ms/step - loss: 0.1228 - accuracy: 0.9695\n",
      "Epoch 102/200\n",
      "57/57 [==============================] - 0s 2ms/step - loss: 0.1226 - accuracy: 0.9695\n",
      "Epoch 103/200\n",
      "57/57 [==============================] - 0s 2ms/step - loss: 0.1224 - accuracy: 0.9695\n",
      "Epoch 104/200\n",
      "57/57 [==============================] - 0s 2ms/step - loss: 0.1223 - accuracy: 0.9695\n",
      "Epoch 105/200\n",
      "57/57 [==============================] - 0s 2ms/step - loss: 0.1222 - accuracy: 0.9695\n",
      "Epoch 106/200\n",
      "57/57 [==============================] - 0s 2ms/step - loss: 0.1220 - accuracy: 0.9695\n",
      "Epoch 107/200\n",
      "57/57 [==============================] - 0s 2ms/step - loss: 0.1219 - accuracy: 0.9695\n",
      "Epoch 108/200\n",
      "57/57 [==============================] - 0s 2ms/step - loss: 0.1218 - accuracy: 0.9695: 0s - loss: 0.1278 - accuracy: 0.96\n",
      "Epoch 109/200\n",
      "57/57 [==============================] - 0s 2ms/step - loss: 0.1218 - accuracy: 0.9695\n",
      "Epoch 110/200\n",
      "57/57 [==============================] - 0s 2ms/step - loss: 0.1216 - accuracy: 0.9695\n",
      "Epoch 111/200\n",
      "57/57 [==============================] - 0s 2ms/step - loss: 0.1216 - accuracy: 0.9695\n",
      "Epoch 112/200\n",
      "57/57 [==============================] - 0s 2ms/step - loss: 0.1216 - accuracy: 0.9695\n",
      "Epoch 113/200\n",
      "57/57 [==============================] - 0s 2ms/step - loss: 0.1214 - accuracy: 0.9695\n",
      "Epoch 114/200\n",
      "57/57 [==============================] - 0s 2ms/step - loss: 0.1212 - accuracy: 0.9695\n",
      "Epoch 115/200\n",
      "57/57 [==============================] - 0s 1ms/step - loss: 0.1211 - accuracy: 0.9695\n",
      "Epoch 116/200\n",
      "57/57 [==============================] - 0s 1ms/step - loss: 0.1210 - accuracy: 0.9695\n",
      "Epoch 117/200\n",
      "57/57 [==============================] - 0s 1ms/step - loss: 0.1209 - accuracy: 0.9695\n",
      "Epoch 118/200\n",
      "57/57 [==============================] - 0s 2ms/step - loss: 0.1208 - accuracy: 0.9695\n",
      "Epoch 119/200\n",
      "57/57 [==============================] - 0s 1ms/step - loss: 0.1207 - accuracy: 0.9695\n",
      "Epoch 120/200\n",
      "57/57 [==============================] - 0s 1ms/step - loss: 0.1206 - accuracy: 0.9695\n",
      "Epoch 121/200\n",
      "57/57 [==============================] - 0s 1ms/step - loss: 0.1207 - accuracy: 0.9695\n",
      "Epoch 122/200\n",
      "57/57 [==============================] - 0s 2ms/step - loss: 0.1206 - accuracy: 0.9695\n",
      "Epoch 123/200\n",
      "57/57 [==============================] - 0s 2ms/step - loss: 0.1203 - accuracy: 0.9695\n",
      "Epoch 124/200\n",
      "57/57 [==============================] - 0s 1ms/step - loss: 0.1202 - accuracy: 0.9695\n",
      "Epoch 125/200\n",
      "57/57 [==============================] - 0s 2ms/step - loss: 0.1202 - accuracy: 0.9695\n",
      "Epoch 126/200\n",
      "57/57 [==============================] - 0s 1ms/step - loss: 0.1202 - accuracy: 0.9695\n",
      "Epoch 127/200\n",
      "57/57 [==============================] - 0s 2ms/step - loss: 0.1200 - accuracy: 0.9695\n",
      "Epoch 128/200\n",
      "57/57 [==============================] - 0s 2ms/step - loss: 0.1200 - accuracy: 0.9695\n",
      "Epoch 129/200\n",
      "57/57 [==============================] - 0s 2ms/step - loss: 0.1199 - accuracy: 0.9695\n",
      "Epoch 130/200\n",
      "57/57 [==============================] - 0s 2ms/step - loss: 0.1199 - accuracy: 0.9695\n",
      "Epoch 131/200\n",
      "57/57 [==============================] - 0s 2ms/step - loss: 0.1197 - accuracy: 0.9695\n",
      "Epoch 132/200\n",
      "57/57 [==============================] - 0s 1ms/step - loss: 0.1197 - accuracy: 0.9695\n",
      "Epoch 133/200\n",
      "57/57 [==============================] - 0s 2ms/step - loss: 0.1196 - accuracy: 0.9695\n",
      "Epoch 134/200\n",
      "57/57 [==============================] - 0s 1ms/step - loss: 0.1194 - accuracy: 0.9695\n",
      "Epoch 135/200\n",
      "57/57 [==============================] - 0s 2ms/step - loss: 0.1196 - accuracy: 0.9695\n",
      "Epoch 136/200\n",
      "57/57 [==============================] - 0s 1ms/step - loss: 0.1195 - accuracy: 0.9695\n",
      "Epoch 137/200\n",
      "57/57 [==============================] - 0s 1ms/step - loss: 0.1193 - accuracy: 0.9695\n",
      "Epoch 138/200\n",
      "57/57 [==============================] - 0s 1ms/step - loss: 0.1192 - accuracy: 0.9695\n",
      "Epoch 139/200\n",
      "57/57 [==============================] - 0s 2ms/step - loss: 0.1192 - accuracy: 0.9695\n",
      "Epoch 140/200\n",
      "57/57 [==============================] - 0s 1ms/step - loss: 0.1192 - accuracy: 0.9695\n",
      "Epoch 141/200\n",
      "57/57 [==============================] - 0s 2ms/step - loss: 0.1191 - accuracy: 0.9695\n",
      "Epoch 142/200\n",
      "57/57 [==============================] - 0s 2ms/step - loss: 0.1190 - accuracy: 0.9695\n",
      "Epoch 143/200\n",
      "57/57 [==============================] - 0s 2ms/step - loss: 0.1190 - accuracy: 0.9695\n",
      "Epoch 144/200\n",
      "57/57 [==============================] - 0s 2ms/step - loss: 0.1190 - accuracy: 0.9695\n",
      "Epoch 145/200\n",
      "57/57 [==============================] - 0s 2ms/step - loss: 0.1189 - accuracy: 0.9695\n",
      "Epoch 146/200\n",
      "57/57 [==============================] - 0s 1ms/step - loss: 0.1189 - accuracy: 0.9695\n",
      "Epoch 147/200\n",
      "57/57 [==============================] - 0s 2ms/step - loss: 0.1190 - accuracy: 0.9695\n",
      "Epoch 148/200\n",
      "57/57 [==============================] - 0s 1ms/step - loss: 0.1188 - accuracy: 0.9695\n",
      "Epoch 149/200\n",
      "57/57 [==============================] - 0s 1ms/step - loss: 0.1188 - accuracy: 0.9695\n",
      "Epoch 150/200\n",
      "57/57 [==============================] - 0s 2ms/step - loss: 0.1187 - accuracy: 0.9695\n",
      "Epoch 151/200\n",
      "57/57 [==============================] - 0s 2ms/step - loss: 0.1186 - accuracy: 0.9695\n",
      "Epoch 152/200\n",
      "57/57 [==============================] - 0s 2ms/step - loss: 0.1187 - accuracy: 0.9695\n",
      "Epoch 153/200\n",
      "57/57 [==============================] - 0s 1ms/step - loss: 0.1185 - accuracy: 0.9695\n",
      "Epoch 154/200\n",
      "57/57 [==============================] - 0s 2ms/step - loss: 0.1184 - accuracy: 0.9695\n",
      "Epoch 155/200\n",
      "57/57 [==============================] - 0s 2ms/step - loss: 0.1186 - accuracy: 0.9695\n",
      "Epoch 156/200\n",
      "57/57 [==============================] - 0s 2ms/step - loss: 0.1184 - accuracy: 0.9695\n",
      "Epoch 157/200\n",
      "57/57 [==============================] - 0s 2ms/step - loss: 0.1183 - accuracy: 0.9695\n",
      "Epoch 158/200\n",
      "57/57 [==============================] - 0s 1ms/step - loss: 0.1183 - accuracy: 0.9695\n",
      "Epoch 159/200\n",
      "57/57 [==============================] - 0s 1ms/step - loss: 0.1182 - accuracy: 0.9695\n",
      "Epoch 160/200\n",
      "57/57 [==============================] - 0s 2ms/step - loss: 0.1182 - accuracy: 0.9695\n",
      "Epoch 161/200\n",
      "57/57 [==============================] - 0s 1ms/step - loss: 0.1181 - accuracy: 0.9695\n",
      "Epoch 162/200\n",
      "57/57 [==============================] - 0s 2ms/step - loss: 0.1181 - accuracy: 0.9695\n",
      "Epoch 163/200\n"
     ]
    },
    {
     "name": "stdout",
     "output_type": "stream",
     "text": [
      "57/57 [==============================] - 0s 2ms/step - loss: 0.1180 - accuracy: 0.9695\n",
      "Epoch 164/200\n",
      "57/57 [==============================] - 0s 1ms/step - loss: 0.1181 - accuracy: 0.9695\n",
      "Epoch 165/200\n",
      "57/57 [==============================] - 0s 1ms/step - loss: 0.1180 - accuracy: 0.9695\n",
      "Epoch 166/200\n",
      "57/57 [==============================] - 0s 1ms/step - loss: 0.1179 - accuracy: 0.9695\n",
      "Epoch 167/200\n",
      "57/57 [==============================] - 0s 2ms/step - loss: 0.1178 - accuracy: 0.9695\n",
      "Epoch 168/200\n",
      "57/57 [==============================] - 0s 1ms/step - loss: 0.1178 - accuracy: 0.9695\n",
      "Epoch 169/200\n",
      "57/57 [==============================] - 0s 1ms/step - loss: 0.1177 - accuracy: 0.9695\n",
      "Epoch 170/200\n",
      "57/57 [==============================] - 0s 1ms/step - loss: 0.1177 - accuracy: 0.9695\n",
      "Epoch 171/200\n",
      "57/57 [==============================] - 0s 1ms/step - loss: 0.1179 - accuracy: 0.9695\n",
      "Epoch 172/200\n",
      "57/57 [==============================] - 0s 1ms/step - loss: 0.1176 - accuracy: 0.9695\n",
      "Epoch 173/200\n",
      "57/57 [==============================] - 0s 1ms/step - loss: 0.1175 - accuracy: 0.9695\n",
      "Epoch 174/200\n",
      "57/57 [==============================] - 0s 1ms/step - loss: 0.1177 - accuracy: 0.9695\n",
      "Epoch 175/200\n",
      "57/57 [==============================] - 0s 1ms/step - loss: 0.1175 - accuracy: 0.9695\n",
      "Epoch 176/200\n",
      "57/57 [==============================] - 0s 1ms/step - loss: 0.1174 - accuracy: 0.9695\n",
      "Epoch 177/200\n",
      "57/57 [==============================] - 0s 2ms/step - loss: 0.1175 - accuracy: 0.9695\n",
      "Epoch 178/200\n",
      "57/57 [==============================] - 0s 2ms/step - loss: 0.1174 - accuracy: 0.9695\n",
      "Epoch 179/200\n",
      "57/57 [==============================] - 0s 2ms/step - loss: 0.1174 - accuracy: 0.9695\n",
      "Epoch 180/200\n",
      "57/57 [==============================] - 0s 1ms/step - loss: 0.1173 - accuracy: 0.9695\n",
      "Epoch 181/200\n",
      "57/57 [==============================] - 0s 1ms/step - loss: 0.1173 - accuracy: 0.9695\n",
      "Epoch 182/200\n",
      "57/57 [==============================] - 0s 1ms/step - loss: 0.1173 - accuracy: 0.9695\n",
      "Epoch 183/200\n",
      "57/57 [==============================] - 0s 1ms/step - loss: 0.1174 - accuracy: 0.9695\n",
      "Epoch 184/200\n",
      "57/57 [==============================] - 0s 1ms/step - loss: 0.1172 - accuracy: 0.9695\n",
      "Epoch 185/200\n",
      "57/57 [==============================] - 0s 1ms/step - loss: 0.1173 - accuracy: 0.9695\n",
      "Epoch 186/200\n",
      "57/57 [==============================] - 0s 2ms/step - loss: 0.1172 - accuracy: 0.9695\n",
      "Epoch 187/200\n",
      "57/57 [==============================] - 0s 1ms/step - loss: 0.1172 - accuracy: 0.9695\n",
      "Epoch 188/200\n",
      "57/57 [==============================] - 0s 2ms/step - loss: 0.1173 - accuracy: 0.9695\n",
      "Epoch 189/200\n",
      "57/57 [==============================] - 0s 2ms/step - loss: 0.1170 - accuracy: 0.9695\n",
      "Epoch 190/200\n",
      "57/57 [==============================] - 0s 2ms/step - loss: 0.1171 - accuracy: 0.9695\n",
      "Epoch 191/200\n",
      "57/57 [==============================] - ETA: 0s - loss: 0.1292 - accuracy: 0.96 - 0s 1ms/step - loss: 0.1171 - accuracy: 0.9695\n",
      "Epoch 192/200\n",
      "57/57 [==============================] - 0s 1ms/step - loss: 0.1170 - accuracy: 0.9695\n",
      "Epoch 193/200\n",
      "57/57 [==============================] - 0s 1ms/step - loss: 0.1170 - accuracy: 0.9695\n",
      "Epoch 194/200\n",
      "57/57 [==============================] - 0s 1ms/step - loss: 0.1169 - accuracy: 0.9695\n",
      "Epoch 195/200\n",
      "57/57 [==============================] - 0s 1ms/step - loss: 0.1171 - accuracy: 0.9695\n",
      "Epoch 196/200\n",
      "57/57 [==============================] - 0s 2ms/step - loss: 0.1169 - accuracy: 0.9695\n",
      "Epoch 197/200\n",
      "57/57 [==============================] - 0s 2ms/step - loss: 0.1169 - accuracy: 0.9695\n",
      "Epoch 198/200\n",
      "57/57 [==============================] - 0s 2ms/step - loss: 0.1171 - accuracy: 0.9695\n",
      "Epoch 199/200\n",
      "57/57 [==============================] - 0s 2ms/step - loss: 0.1168 - accuracy: 0.9695\n",
      "Epoch 200/200\n",
      "57/57 [==============================] - 0s 1ms/step - loss: 0.1167 - accuracy: 0.9695\n",
      "57/57 [==============================] - 0s 1ms/step - loss: 0.1164 - accuracy: 0.9695\n",
      "Training Accuracy: 96.95%\n",
      "\n",
      "18/18 [==============================] - 0s 4ms/step - loss: 0.0680 - accuracy: 0.9912\n",
      "Testing Accuracy: 99.12%\n",
      "\n"
     ]
    }
   ],
   "source": [
    "# create model\n",
    "model = Sequential()\n",
    "model.add(Dense(5, input_dim=7, activation='relu'))\n",
    "model.add(Dense(5, activation='relu'))\n",
    "model.add(Dense(1, activation='sigmoid'))\n",
    "# Compile model\n",
    "model.compile(loss='binary_crossentropy', optimizer='adam', metrics=['accuracy'])\n",
    "\n",
    "# training the network\n",
    "\n",
    "model.fit(X_train, y_train, epochs=200)\n",
    "\n",
    "# scoring it on the data it trained on as well as test data\n",
    "\n",
    "scores = model.evaluate(X_train, y_train)\n",
    "print (\"Training Accuracy: %.2f%%\\n\" % (scores[1]*100))\n",
    "\n",
    "scores = model.evaluate(X_test, y_test)\n",
    "print (\"Testing Accuracy: %.2f%%\\n\" % (scores[1]*100))"
   ]
  },
  {
   "cell_type": "code",
   "execution_count": 29,
   "metadata": {},
   "outputs": [
    {
     "name": "stdout",
     "output_type": "stream",
     "text": [
      "WARNING:tensorflow:From <ipython-input-29-29e50dcc30ea>:3: Sequential.predict_classes (from tensorflow.python.keras.engine.sequential) is deprecated and will be removed after 2021-01-01.\n",
      "Instructions for updating:\n",
      "Please use instead:* `np.argmax(model.predict(x), axis=-1)`,   if your model does multi-class classification   (e.g. if it uses a `softmax` last-layer activation).* `(model.predict(x) > 0.5).astype(\"int32\")`,   if your model does binary classification   (e.g. if it uses a `sigmoid` last-layer activation).\n"
     ]
    },
    {
     "data": {
      "text/plain": [
       "Text(32.99999999999999, 0.5, 'Actual')"
      ]
     },
     "execution_count": 29,
     "metadata": {},
     "output_type": "execute_result"
    },
    {
     "data": {
      "image/png": "[encoded data removed]",
      "text/plain": [
       "<Figure size 432x288 with 1 Axes>"
      ]
     },
     "metadata": {
      "needs_background": "light"
     },
     "output_type": "display_data"
    }
   ],
   "source": [
    "# plotting the confusion matrix\n",
    "\n",
    "y_test_pred = model.predict_classes(X_test)\n",
    "c_matrix = confusion_matrix(y_test,y_test_pred)\n",
    "ax = sns.heatmap(c_matrix, annot=True, xticklabels=['No Banking Crisis','Banking Crisis'], yticklabels=['No Banking Crisis','Banking Crisis'], cbar=False, cmap='Blues')\n",
    "ax.set_xlabel(\"Prediction\")\n",
    "ax.set_ylabel(\"Actual\")"
   ]
  },
  {
   "cell_type": "markdown",
   "metadata": {},
   "source": [
    "Thus, we see that we have 550 + 13 = 563 correct predictions and 5 + 0 = 5 incorrect predictions as per the neural network classifier model.\n",
    "The false positive rate and true positive rate can be visualized using the ROC curve."
   ]
  },
  {
   "cell_type": "markdown",
   "metadata": {},
   "source": [
    "### ROC curve"
   ]
  },
  {
   "cell_type": "code",
   "execution_count": 32,
   "metadata": {},
   "outputs": [
    {
     "data": {
      "image/png": "[encoded data removed]",
      "text/plain": [
       "<Figure size 432x288 with 1 Axes>"
      ]
     },
     "metadata": {
      "needs_background": "light"
     },
     "output_type": "display_data"
    }
   ],
   "source": [
    "from sklearn.metrics import roc_auc_score\n",
    "from sklearn.metrics import roc_curve\n",
    "neural_net_roc_auc = roc_auc_score(y_test, model.predict(X_test))\n",
    "fpr, tpr, thresholds = roc_curve(y_test, model.predict_proba(X_test))\n",
    "plt.figure()\n",
    "plt.plot(fpr, tpr, label='neural net (area = %0.2f)' % neural_net_roc_auc)\n",
    "plt.plot([0, 1], [0, 1],'r--')\n",
    "plt.xlim([0.0, 1.0])\n",
    "plt.ylim([0.0, 1.05])\n",
    "plt.xlabel('False Positive Rate')\n",
    "plt.ylabel('True Positive Rate')\n",
    "plt.title('Receiver operating characteristic')\n",
    "plt.legend(loc=\"lower right\")\n",
    "plt.savefig('neural_net_roc')\n",
    "plt.show()"
   ]
  },
  {
   "cell_type": "code",
   "execution_count": null,
   "metadata": {},
   "outputs": [],
   "source": []
  }
 ],
 "metadata": {
  "kernelspec": {
   "display_name": "Python 3",
   "language": "python",
   "name": "python3"
  },
  "language_info": {
   "codemirror_mode": {
    "name": "ipython",
    "version": 3
   },
   "file_extension": ".py",
   "mimetype": "text/x-python",
   "name": "python",
   "nbconvert_exporter": "python",
   "pygments_lexer": "ipython3",
   "version": "3.7.6"
  }
 },
 "nbformat": 4,
 "nbformat_minor": 4
}
